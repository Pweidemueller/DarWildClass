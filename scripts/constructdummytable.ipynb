{
 "cells": [
  {
   "cell_type": "code",
   "execution_count": null,
   "metadata": {},
   "outputs": [],
   "source": [
    "import pandas as pd\n",
    "import numpy as np\n",
    "\n",
    "import random\n",
    "import datetime"
   ]
  },
  {
   "cell_type": "code",
   "execution_count": null,
   "metadata": {},
   "outputs": [],
   "source": [
    "animals = ['Duck female', 'Duck male', 'Otter', 'Squirrel', 'Blackbird', 'Rat', 'Mouse']\n",
    "cameras = ['Camera 1', 'Camera 2', 'Camera 3']"
   ]
  },
  {
   "cell_type": "code",
   "execution_count": null,
   "metadata": {},
   "outputs": [],
   "source": [
    "# Generate a random timestamp in the range from March 2023 to April 2023\n",
    "start_date = datetime.datetime(2023, 3, 1)\n",
    "end_date = datetime.datetime(2023, 4, 30)\n",
    "\n",
    "def generate_random_timestamp():\n",
    "    random_days = random.randint(0, (end_date - start_date).days)\n",
    "    random_seconds = random.randint(0, 24*60*60)\n",
    "    return start_date + datetime.timedelta(days=random_days, seconds=random_seconds)"
   ]
  },
  {
   "cell_type": "code",
   "execution_count": null,
   "metadata": {},
   "outputs": [],
   "source": [
    "# Set a seed for reproducibility\n",
    "random.seed(123)\n",
    "\n",
    "# Generate the table\n",
    "table = []\n",
    "for _ in range(1000):  # Change the number of sightings as per your requirement\n",
    "    timestamp = generate_random_timestamp()\n",
    "    animal = random.choice(animals)\n",
    "    camera = random.choice(cameras)\n",
    "    clip_name = f'DSCF_{random.randint(0, 9999):04d}.mp4'\n",
    "    table.append([timestamp, animal, camera, clip_name])\n",
    "\n",
    "# Convert the table to a pandas DataFrame\n",
    "df = pd.DataFrame(table, columns=['Timestamp', 'Animal', 'Camera', 'Clip Name'])\n",
    "df"
   ]
  },
  {
   "cell_type": "code",
   "execution_count": null,
   "metadata": {},
   "outputs": [],
   "source": [
    "df.to_csv('../data/dummysightings.csv', index=False)"
   ]
  }
 ],
 "metadata": {
  "kernelspec": {
   "display_name": "darwild",
   "language": "python",
   "name": "python3"
  },
  "language_info": {
   "codemirror_mode": {
    "name": "ipython",
    "version": 3
   },
   "file_extension": ".py",
   "mimetype": "text/x-python",
   "name": "python",
   "nbconvert_exporter": "python",
   "pygments_lexer": "ipython3",
   "version": "3.11.3"
  },
  "orig_nbformat": 4
 },
 "nbformat": 4,
 "nbformat_minor": 2
}
